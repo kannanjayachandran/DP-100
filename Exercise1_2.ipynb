{
 "cells": [
  {
   "cell_type": "markdown",
   "id": "d89811d5-5c53-47a7-a3c7-dce80691b5f3",
   "metadata": {},
   "source": [
    "## Using trained model on new data"
   ]
  },
  {
   "cell_type": "code",
   "execution_count": 1,
   "id": "4710d3bf-3805-4e62-adec-8b0bd66f785d",
   "metadata": {},
   "outputs": [],
   "source": [
    "import pandas as pd\n",
    "import statsmodels.formula.api as smf\n",
    "\n",
    "import plotly.io as pio\n",
    "pio.renderers.default = 'iframe'\n"
   ]
  },
  {
   "cell_type": "code",
   "execution_count": 2,
   "id": "1281397b-22f9-45e2-aca6-e90f50ce307a",
   "metadata": {},
   "outputs": [
    {
     "data": {
      "text/html": [
       "<div>\n",
       "<style scoped>\n",
       "    .dataframe tbody tr th:only-of-type {\n",
       "        vertical-align: middle;\n",
       "    }\n",
       "\n",
       "    .dataframe tbody tr th {\n",
       "        vertical-align: top;\n",
       "    }\n",
       "\n",
       "    .dataframe thead th {\n",
       "        text-align: right;\n",
       "    }\n",
       "</style>\n",
       "<table border=\"1\" class=\"dataframe\">\n",
       "  <thead>\n",
       "    <tr style=\"text-align: right;\">\n",
       "      <th></th>\n",
       "      <th>boot_size</th>\n",
       "      <th>harness_size</th>\n",
       "      <th>sex</th>\n",
       "      <th>age_years</th>\n",
       "    </tr>\n",
       "  </thead>\n",
       "  <tbody>\n",
       "    <tr>\n",
       "      <th>0</th>\n",
       "      <td>39</td>\n",
       "      <td>58</td>\n",
       "      <td>male</td>\n",
       "      <td>12.0</td>\n",
       "    </tr>\n",
       "    <tr>\n",
       "      <th>1</th>\n",
       "      <td>38</td>\n",
       "      <td>58</td>\n",
       "      <td>male</td>\n",
       "      <td>9.6</td>\n",
       "    </tr>\n",
       "    <tr>\n",
       "      <th>2</th>\n",
       "      <td>37</td>\n",
       "      <td>52</td>\n",
       "      <td>female</td>\n",
       "      <td>8.6</td>\n",
       "    </tr>\n",
       "    <tr>\n",
       "      <th>3</th>\n",
       "      <td>39</td>\n",
       "      <td>58</td>\n",
       "      <td>male</td>\n",
       "      <td>10.2</td>\n",
       "    </tr>\n",
       "    <tr>\n",
       "      <th>4</th>\n",
       "      <td>38</td>\n",
       "      <td>57</td>\n",
       "      <td>male</td>\n",
       "      <td>7.8</td>\n",
       "    </tr>\n",
       "  </tbody>\n",
       "</table>\n",
       "</div>"
      ],
      "text/plain": [
       "   boot_size  harness_size     sex  age_years\n",
       "0         39            58    male       12.0\n",
       "1         38            58    male        9.6\n",
       "2         37            52  female        8.6\n",
       "3         39            58    male       10.2\n",
       "4         38            57    male        7.8"
      ]
     },
     "execution_count": 2,
     "metadata": {},
     "output_type": "execute_result"
    }
   ],
   "source": [
    "dataset = pd.read_csv('doggy-boot-harness.csv')\n",
    "dataset.head()"
   ]
  },
  {
   "cell_type": "markdown",
   "id": "adc5a1b7-a5f9-43e9-8e85-030d792302a1",
   "metadata": {},
   "source": [
    "### Creating the model"
   ]
  },
  {
   "cell_type": "code",
   "execution_count": 3,
   "id": "7a3d10c5-67ee-4dd3-bc47-24c77c508694",
   "metadata": {},
   "outputs": [],
   "source": [
    "model = smf.ols(formula=\"boot_size ~ harness_size\", data=dataset).fit()"
   ]
  },
  {
   "cell_type": "markdown",
   "id": "36bd0c53-24bb-4d51-aac4-396b78dbbd46",
   "metadata": {},
   "source": [
    "### Saving the model (we are using joblib package here we can use pickle also for serializing objects to byte stream)"
   ]
  },
  {
   "cell_type": "code",
   "execution_count": 4,
   "id": "93456310-b052-4b01-8cf2-b59e3d5410f7",
   "metadata": {},
   "outputs": [
    {
     "data": {
      "text/plain": [
       "['./dog_boot_harness_model.pkl']"
      ]
     },
     "execution_count": 4,
     "metadata": {},
     "output_type": "execute_result"
    }
   ],
   "source": [
    "import joblib\n",
    "model_filename = './dog_boot_harness_model.pkl'\n",
    "\n",
    "joblib.dump(model, model_filename)"
   ]
  },
  {
   "cell_type": "markdown",
   "id": "64d86f7b-3e74-4439-9552-a0cf57c48181",
   "metadata": {},
   "source": [
    "### A function to load the model, take input and do prediction"
   ]
  },
  {
   "cell_type": "code",
   "execution_count": 19,
   "id": "595f429d-87ab-46e3-b528-8c5c819ab4f3",
   "metadata": {},
   "outputs": [],
   "source": [
    "def model_prediction(harness_size: float) -> float:\n",
    "    \n",
    "    # loading the saved model\n",
    "    loaded_model = joblib.load(model_filename)\n",
    "    \n",
    "    #print(f'The model is loaded...\\nparameter of the model are:\\n{loaded_model.params}\\n')\n",
    "    \n",
    "    # preparing data for prediction\n",
    "    input_data = {'harness_size': [harness_size]}\n",
    "    #print(f\"Input {input_data['harness_size']} loaded...\")\n",
    "    \n",
    "    # making the prediction\n",
    "    predicted_boot_size = loaded_model.predict(input_data)[0]\n",
    "    \n",
    "    return predicted_boot_size"
   ]
  },
  {
   "cell_type": "code",
   "execution_count": 16,
   "id": "0810286d-7781-43d9-8eae-926510ad0b01",
   "metadata": {},
   "outputs": [
    {
     "name": "stdout",
     "output_type": "stream",
     "text": [
      "The model is loaded...\n",
      "parameter of the model are:\n",
      "Intercept       5.719110\n",
      "harness_size    0.585925\n",
      "dtype: float64\n",
      "\n",
      "Input [45] loaded...\n",
      "For harness size 45, the predicted boot size is: 32.09\n"
     ]
    }
   ],
   "source": [
    "print(f'For harness size 45, the predicted boot size is: {model_prediction(45):.2f}')"
   ]
  },
  {
   "cell_type": "markdown",
   "id": "d5936b3c-b746-4f20-87e4-a8c2b684a730",
   "metadata": {},
   "source": [
    "### Real world use case of our model"
   ]
  },
  {
   "cell_type": "code",
   "execution_count": 22,
   "id": "c41fbe0d-74ca-473d-830d-53ddc02fe6d7",
   "metadata": {},
   "outputs": [],
   "source": [
    "def check_boot_size(selected_harness_size: int, selected_boot_size: int) -> int: \n",
    "    \n",
    "    # predicting the esitmated boot size from harness_size and rounding it \n",
    "    estimated_boot_size = int(round(model_prediction(selected_harness_size)))\n",
    "    \n",
    "    if selected_boot_size == estimated_boot_size:\n",
    "        return f'Excellent choice'\n",
    "    if selected_boot_size < estimated_boot_size:\n",
    "        return \"The boots you have selected might be TOO SMALL for a dog as \"\\\n",
    "               f\"big as yours. We recommend a doggy boots size of {estimated_boot_size}.\"\n",
    "    if selected_boot_size > estimated_boot_size:\n",
    "        return \"The boots you have selected might be TOO BIG for a dog as \"\\\n",
    "               f\"small as yours. We recommend a doggy boots size of {estimated_boot_size}.\""
   ]
  },
  {
   "cell_type": "code",
   "execution_count": 23,
   "id": "e912d332-0a3c-4290-935f-60b4c1a6c8d5",
   "metadata": {},
   "outputs": [
    {
     "data": {
      "text/plain": [
       "'The boots you have selected might be TOO SMALL for a dog as big as yours. We recommend a doggy boots size of 38.'"
      ]
     },
     "execution_count": 23,
     "metadata": {},
     "output_type": "execute_result"
    }
   ],
   "source": [
    "check_boot_size(selected_harness_size=55, selected_boot_size=32)"
   ]
  },
  {
   "cell_type": "code",
   "execution_count": null,
   "id": "aa5ca1d8-46c8-4db2-9d67-90861c9c0793",
   "metadata": {},
   "outputs": [],
   "source": []
  }
 ],
 "metadata": {
  "kernelspec": {
   "display_name": "DP-100",
   "language": "python",
   "name": "dp-100"
  },
  "language_info": {
   "codemirror_mode": {
    "name": "ipython",
    "version": 3
   },
   "file_extension": ".py",
   "mimetype": "text/x-python",
   "name": "python",
   "nbconvert_exporter": "python",
   "pygments_lexer": "ipython3",
   "version": "3.10.9"
  }
 },
 "nbformat": 4,
 "nbformat_minor": 5
}
